{
 "cells": [
  {
   "cell_type": "code",
   "execution_count": null,
   "id": "c85de3d3-efe5-4324-bde6-06d973450da8",
   "metadata": {
    "vscode": {
     "languageId": "python"
    }
   },
   "outputs": [],
   "source": [
    "# Modelo de recomendación basdo en usuarios"
   ]
  },
  {
   "cell_type": "code",
   "execution_count": null,
   "id": "353a725a-d73d-4481-81c7-1b1bd7cdb0c5",
   "metadata": {
    "vscode": {
     "languageId": "python"
    }
   },
   "outputs": [
    {
     "name": "stdout",
     "output_type": "stream",
     "text": [
      "Collecting scikit-surprise\n",
      "  Using cached scikit_surprise-1.1.1-cp37-cp37m-linux_x86_64.whl\n",
      "Requirement already satisfied: numpy>=1.11.2 in /opt/conda/lib/python3.7/site-packages (from scikit-surprise) (1.21.6)\n",
      "Requirement already satisfied: joblib>=0.11 in /opt/conda/lib/python3.7/site-packages (from scikit-surprise) (1.2.0)\n",
      "Requirement already satisfied: six>=1.10.0 in /opt/conda/lib/python3.7/site-packages (from scikit-surprise) (1.16.0)\n",
      "Requirement already satisfied: scipy>=1.0.0 in /opt/conda/lib/python3.7/site-packages (from scikit-surprise) (1.7.3)\n",
      "Installing collected packages: scikit-surprise\n",
      "Successfully installed scikit-surprise-1.1.1\n"
     ]
    }
   ],
   "source": [
    "!pip install scikit-surprise"
   ]
  },
  {
   "cell_type": "code",
   "execution_count": null,
   "id": "587813b0-5cda-40eb-8dc7-452fade427fb",
   "metadata": {
    "vscode": {
     "languageId": "python"
    }
   },
   "outputs": [
    {
     "name": "stdout",
     "output_type": "stream",
     "text": [
      "Requirement already satisfied: joblib in /opt/conda/lib/python3.7/site-packages (1.2.0)\n"
     ]
    }
   ],
   "source": [
    "!pip install joblib"
   ]
  },
  {
   "cell_type": "code",
   "execution_count": null,
   "id": "c43a0501-e8dc-46a3-9153-b97a14440ee3",
   "metadata": {
    "vscode": {
     "languageId": "python"
    }
   },
   "outputs": [],
   "source": [
    "import pandas as pd\n",
    "import numpy as np\n",
    "import joblib\n",
    "import pickle\n",
    "from scipy import sparse\n",
    "from surprise import Dataset, Reader\n",
    "from surprise import SVD\n",
    "from surprise import accuracy\n",
    "from surprise.model_selection import cross_validate\n",
    "from surprise.model_selection import train_test_split\n",
    "from surprise.model_selection import GridSearchCV\n",
    "from sklearn.model_selection import RandomizedSearchCV\n",
    "from joblib import parallel_backend"
   ]
  },
  {
   "cell_type": "code",
   "execution_count": null,
   "id": "cbf684c8-7cc0-4ded-a3c4-a203231d0672",
   "metadata": {
    "vscode": {
     "languageId": "python"
    }
   },
   "outputs": [],
   "source": [
    "qryUsrs = \"\"\"\n",
    "Select user_id\n",
    "    ,gmap_id\n",
    "    ,rating\n",
    "from delorean_dataset.reviews_definitivos_Google\n",
    "\"\"\"\n",
    "dfUsers = pd.read_gbq(qryUsrs, dialect='standard')"
   ]
  },
  {
   "cell_type": "code",
   "execution_count": null,
   "id": "271377b6-d713-469d-ae2a-56a12e8212e2",
   "metadata": {
    "vscode": {
     "languageId": "python"
    }
   },
   "outputs": [],
   "source": [
    "# Tomar una muestra aleatoria del 20% de los datos\n",
    "dfUsers = dfUsers.sample(frac=0.2)"
   ]
  },
  {
   "cell_type": "code",
   "execution_count": null,
   "id": "51f16f6d-b0ae-405f-b792-bc328313c4f5",
   "metadata": {
    "vscode": {
     "languageId": "python"
    }
   },
   "outputs": [],
   "source": [
    "# Total las valoraciones mayores a 3\n",
    "res = (\n",
    "  dfUsers\n",
    " .query('`rating` >= 3')\n",
    ")"
   ]
  },
  {
   "cell_type": "code",
   "execution_count": null,
   "id": "819bad3d-cbd3-4f76-9651-72a863213a35",
   "metadata": {
    "vscode": {
     "languageId": "python"
    }
   },
   "outputs": [],
   "source": [
    "# Convierte el dataframe a algo legible por surprise\n",
    "# Las calificaciones fueron tomadas de los valores diferentes de la col, rating\n",
    "reader = Reader(line_format='user item rating', rating_scale=(1, 5))\n",
    "data = Dataset.load_from_df(res, reader)"
   ]
  },
  {
   "cell_type": "code",
   "execution_count": null,
   "id": "40f0114b-70a0-4d58-8c98-73bba40115fc",
   "metadata": {
    "vscode": {
     "languageId": "python"
    }
   },
   "outputs": [],
   "source": [
    "# Crea los set de entreno y prueba\n",
    "set_entreno, set_prueba = train_test_split(data, test_size=.20)"
   ]
  },
  {
   "cell_type": "code",
   "execution_count": null,
   "id": "7c4d2c23-eaec-40dd-b12c-b419d1792d15",
   "metadata": {
    "tags": [],
    "vscode": {
     "languageId": "python"
    }
   },
   "outputs": [],
   "source": [
    "# Instancia el modelo\n",
    "modeloUsr= SVD()"
   ]
  },
  {
   "cell_type": "code",
   "execution_count": null,
   "id": "dae57ac9-a90f-4d28-853b-c2aef51032b2",
   "metadata": {
    "vscode": {
     "languageId": "python"
    }
   },
   "outputs": [
    {
     "data": {
      "text/plain": [
       "<surprise.prediction_algorithms.matrix_factorization.SVD at 0x7fd09dd834d0>"
      ]
     },
     "execution_count": 13,
     "metadata": {},
     "output_type": "execute_result"
    }
   ],
   "source": [
    "# Entrena el modelo\n",
    "modeloUsr.fit(set_entreno)"
   ]
  },
  {
   "cell_type": "code",
   "execution_count": null,
   "id": "b3909c69-73e7-4f79-8b8d-dfdb3af8dc56",
   "metadata": {
    "vscode": {
     "languageId": "python"
    }
   },
   "outputs": [],
   "source": [
    "# Hacemos una predicción sobre el set de prueba\n",
    "predictions = modeloUsr.test(set_prueba)"
   ]
  },
  {
   "cell_type": "code",
   "execution_count": null,
   "id": "90f59c3d-d56b-4c98-8689-15b6791f3a5c",
   "metadata": {
    "vscode": {
     "languageId": "python"
    }
   },
   "outputs": [
    {
     "name": "stdout",
     "output_type": "stream",
     "text": [
      "MAE:  0.5696\n"
     ]
    },
    {
     "data": {
      "text/plain": [
       "0.5695724517017111"
      ]
     },
     "execution_count": 15,
     "metadata": {},
     "output_type": "execute_result"
    }
   ],
   "source": [
    "# Calcula el error absoluto medio\n",
    "accuracy.mae(predictions)"
   ]
  },
  {
   "cell_type": "code",
   "execution_count": null,
   "id": "35784e50-df72-4bfb-bb22-de90fa08b63a",
   "metadata": {
    "vscode": {
     "languageId": "python"
    }
   },
   "outputs": [
    {
     "data": {
      "text/plain": [
       "Prediction(uid=1.182920086e+20, iid='0x80803550e8d2cbd9:0xbc89dc0b1315dae7', r_ui=5.0, est=4.548114093127432, details={'was_impossible': False})"
      ]
     },
     "execution_count": 16,
     "metadata": {},
     "output_type": "execute_result"
    }
   ],
   "source": [
    "# Muestra una predicción cualquiera del conjunto de prueba\\n\",\n",
    "predictions[10]"
   ]
  },
  {
   "cell_type": "code",
   "execution_count": null,
   "id": "c75b4a80-e8c6-4816-8b2a-1621c515a0c6",
   "metadata": {
    "vscode": {
     "languageId": "python"
    }
   },
   "outputs": [
    {
     "name": "stdout",
     "output_type": "stream",
     "text": [
      "==================================================\n",
      "Evaluando con  1  factores\n",
      "Evaluating RMSE, MAE of algorithm SVD on 5 split(s).\n",
      "\n",
      "                  Fold 1  Fold 2  Fold 3  Fold 4  Fold 5  Mean    Std     \n",
      "RMSE (testset)    0.6679  0.6707  0.6723  0.6699  0.6695  0.6701  0.0015  \n",
      "MAE (testset)     0.5689  0.5708  0.5715  0.5698  0.5697  0.5701  0.0009  \n",
      "Fit time          8.48    8.62    13.58   12.76   9.12    10.51   2.19    \n",
      "Test time         0.94    0.91    1.38    0.92    0.91    1.01    0.18    \n",
      "==================================================\n",
      "Evaluando con  2  factores\n",
      "Evaluating RMSE, MAE of algorithm SVD on 5 split(s).\n",
      "\n",
      "                  Fold 1  Fold 2  Fold 3  Fold 4  Fold 5  Mean    Std     \n",
      "RMSE (testset)    0.6716  0.6686  0.6715  0.6692  0.6708  0.6703  0.0012  \n",
      "MAE (testset)     0.5713  0.5694  0.5710  0.5698  0.5707  0.5704  0.0007  \n",
      "Fit time          9.01    13.40   13.15   9.32    9.21    10.82   2.01    \n",
      "Test time         0.90    1.35    0.87    1.41    0.89    1.09    0.24    \n",
      "==================================================\n",
      "Evaluando con  4  factores\n",
      "Evaluating RMSE, MAE of algorithm SVD on 5 split(s).\n",
      "\n",
      "                  Fold 1  Fold 2  Fold 3  Fold 4  Fold 5  Mean    Std     \n",
      "RMSE (testset)    0.6687  0.6696  0.6701  0.6699  0.6730  0.6703  0.0015  \n",
      "MAE (testset)     0.5693  0.5698  0.5705  0.5700  0.5721  0.5703  0.0010  \n",
      "Fit time          12.93   14.28   9.66    9.55    14.27   12.14   2.13    \n",
      "Test time         1.40    1.71    0.94    1.42    1.38    1.37    0.25    \n",
      "==================================================\n",
      "Evaluando con  8  factores\n",
      "Evaluating RMSE, MAE of algorithm SVD on 5 split(s).\n",
      "\n",
      "                  Fold 1  Fold 2  Fold 3  Fold 4  Fold 5  Mean    Std     \n",
      "RMSE (testset)    0.6664  0.6695  0.6707  0.6716  0.6720  0.6700  0.0020  \n",
      "MAE (testset)     0.5676  0.5701  0.5708  0.5708  0.5714  0.5701  0.0013  \n",
      "Fit time          15.43   11.27   12.48   16.12   10.64   13.19   2.20    \n",
      "Test time         0.90    0.96    1.38    1.36    1.45    1.21    0.23    \n",
      "==================================================\n",
      "Evaluando con  16  factores\n",
      "Evaluating RMSE, MAE of algorithm SVD on 5 split(s).\n",
      "\n",
      "                  Fold 1  Fold 2  Fold 3  Fold 4  Fold 5  Mean    Std     \n",
      "RMSE (testset)    0.6712  0.6701  0.6698  0.6711  0.6692  0.6703  0.0008  \n",
      "MAE (testset)     0.5705  0.5704  0.5704  0.5710  0.5698  0.5704  0.0004  \n",
      "Fit time          12.58   18.95   14.72   12.49   17.13   15.17   2.54    \n",
      "Test time         1.17    1.40    0.88    1.40    1.34    1.24    0.20    \n",
      "==================================================\n",
      "Evaluando con  32  factores\n",
      "Evaluating RMSE, MAE of algorithm SVD on 5 split(s).\n",
      "\n",
      "                  Fold 1  Fold 2  Fold 3  Fold 4  Fold 5  Mean    Std     \n",
      "RMSE (testset)    0.6674  0.6730  0.6707  0.6721  0.6686  0.6704  0.0021  \n",
      "MAE (testset)     0.5686  0.5722  0.5711  0.5714  0.5694  0.5706  0.0013  \n",
      "Fit time          20.02   16.15   24.25   16.53   18.52   19.09   2.93    \n",
      "Test time         0.89    0.88    1.34    1.36    1.33    1.16    0.23    \n"
     ]
    }
   ],
   "source": [
    "# Encontrar una mejor parametrización\n",
    "from surprise.model_selection import cross_validate\n",
    "\n",
    "rmse_test_means = [] # realizar validación cruzada y devolver los resultados de las métricas de error de los modelos\n",
    "#factores = [1,2,4,8,16,32,64,128,256]\n",
    "factores = [1,2,4,8,16,32] #  lista de valores para la cantidad de factores latentes del modelo\n",
    "\n",
    "for factor in factores: \n",
    "    print ('==================================================')\n",
    "    print('Evaluando con ',factor,' factores')\n",
    "    modelo_evaluado = SVD(n_factors=factor) # se crea un modelo SVD con la cantidad de factores latentes\n",
    "    resultado_cv = cross_validate(modelo_evaluado, data, measures=['RMSE', 'MAE'], cv = 5, verbose=True) # aplica la función cross_validate para este modelo con 5 particiones de validación cruzada\n",
    "    rmse_test_means.append(np.mean(resultado_cv['test_rmse'])) # devuelve los resultados de las métricas de error RMSE y MAE para cada partición"
   ]
  },
  {
   "cell_type": "code",
   "execution_count": null,
   "id": "7a9fc261-87ba-4375-ac8e-aa3a40f9aa33",
   "metadata": {
    "tags": [],
    "vscode": {
     "languageId": "python"
    }
   },
   "outputs": [
    {
     "name": "stdout",
     "output_type": "stream",
     "text": [
      "mejores puntajes : rmse -> 0.6708501240485192  mae -> 0.5724308090415433\n",
      "mejores parámetros : rmse -> {'n_factors': 5, 'n_epochs': 20, 'lr_all': 0.005, 'reg_all': 0.2}  mae -> {'n_factors': 5, 'n_epochs': 20, 'lr_all': 0.005, 'reg_all': 0.002}\n"
     ]
    }
   ],
   "source": [
    "# Con los parámetros encontrados, busca el mejor modelo\n",
    "parametros = {'n_factors': [5,50,100],'n_epochs': [5, 10,20], 'lr_all': [0.001, 0.002, 0.005],\n",
    "              'reg_all': [0.002, 0.02, 0.2]} # diccionario de parámetros con diferentes valores para la cantidad de factores latentes, la cantidad de épocas, la tasa de aprendizaje y la regularización\n",
    "gs = GridSearchCV(SVD, parametros, measures=['RMSE', 'MAE'], cv=3, n_jobs = -1) # buscar el mejor modelo basado en estos parámetros\n",
    "gs.fit(data)\n",
    "\n",
    "print('mejores puntajes : rmse ->',gs.best_score['rmse'],' mae ->',gs.best_score['mae'])\n",
    "print('mejores parámetros : rmse ->',gs.best_params['rmse'],' mae ->',gs.best_params['mae'])"
   ]
  },
  {
   "cell_type": "code",
   "execution_count": null,
   "id": "95276da1-8915-44ec-9eb2-16eb1a115614",
   "metadata": {
    "vscode": {
     "languageId": "python"
    }
   },
   "outputs": [],
   "source": [
    "# Modelo con los parámetros encontrado\n",
    "modelo_mejor_evaluado = SVD(n_factors=5, n_epochs=5, lr_all=0.005, reg_all=0.002)"
   ]
  },
  {
   "cell_type": "code",
   "execution_count": null,
   "id": "c3b20d99-4ae6-4aee-b6c4-9740e4a1c81b",
   "metadata": {
    "vscode": {
     "languageId": "python"
    }
   },
   "outputs": [],
   "source": [
    "# El mejor modelo encontrado\n",
    "modelo_mejor_evaluado= gs.best_estimator['rmse']\n",
    "modelo_mejor_evaluado.fit(set_entreno)\n",
    "predictions = modelo_mejor_evaluado.test(set_prueba)"
   ]
  },
  {
   "cell_type": "code",
   "execution_count": null,
   "id": "28f88fce-5124-4a88-8750-4239882897a2",
   "metadata": {
    "vscode": {
     "languageId": "python"
    }
   },
   "outputs": [
    {
     "data": {
      "text/plain": [
       "['modelo.joblib']"
      ]
     },
     "execution_count": 30,
     "metadata": {},
     "output_type": "execute_result"
    }
   ],
   "source": [
    "# Guardar modelo\n",
    "joblib.dump(modelo_mejor_evaluado, 'modelo.joblib')"
   ]
  },
  {
   "cell_type": "code",
   "execution_count": null,
   "id": "f4338c2f-2422-4a2a-a71c-086b30cf2887",
   "metadata": {
    "vscode": {
     "languageId": "python"
    }
   },
   "outputs": [],
   "source": [
    "# Crea una instancia del cliente de Cloud Storage\n",
    "client = storage.Client()"
   ]
  },
  {
   "cell_type": "code",
   "execution_count": null,
   "id": "07b72e51-1c55-4e6a-87b2-a45fc29bf5c2",
   "metadata": {
    "vscode": {
     "languageId": "python"
    }
   },
   "outputs": [],
   "source": [
    "# Carga el archivo de modelo a subir\n",
    "bucket_name = \"metadata_bucket1\"\n",
    "blob_name = \"modelos/modelo.joblib\"\n",
    "local_file_path = \"modelo.joblib\""
   ]
  },
  {
   "cell_type": "code",
   "execution_count": null,
   "id": "1b60ff94-b4ee-4ecb-b21a-f985a2e2fbc5",
   "metadata": {
    "vscode": {
     "languageId": "python"
    }
   },
   "outputs": [],
   "source": [
    "\n",
    "# Crea un objeto de Bucket\n",
    "bucket = client.get_bucket(bucket_name)"
   ]
  },
  {
   "cell_type": "code",
   "execution_count": null,
   "id": "70a2f4a2-8d1d-491c-9de2-b4f2ea45933d",
   "metadata": {
    "vscode": {
     "languageId": "python"
    }
   },
   "outputs": [],
   "source": [
    "# Crea un objeto Blob y lo carga en el bucket\n",
    "blob = bucket.blob(blob_name)\n",
    "blob.upload_from_filename(local_file_path)"
   ]
  },
  {
   "cell_type": "code",
   "execution_count": null,
   "id": "0369fec2-8295-4270-aa77-dccef01561e8",
   "metadata": {
    "vscode": {
     "languageId": "python"
    }
   },
   "outputs": [],
   "source": [
    "--------------------------------------------------------------------------------------------------------------------------------------------------------"
   ]
  },
  {
   "cell_type": "code",
   "execution_count": null,
   "id": "ad180a5e-54c3-481d-8032-707bfd707142",
   "metadata": {
    "vscode": {
     "languageId": "python"
    }
   },
   "outputs": [],
   "source": [
    "# Crear un cliente de storage\n",
    "client = storage.Client()"
   ]
  },
  {
   "cell_type": "code",
   "execution_count": null,
   "id": "a2353b34-bd5b-45ef-8c91-dbc54487e0b2",
   "metadata": {
    "vscode": {
     "languageId": "python"
    }
   },
   "outputs": [],
   "source": [
    "# Carga el archivo de modelo a subir\n",
    "bucket_name = \"metadata_bucket1\"\n",
    "blob_name1 = \"modelos/modelo.pickle\"\n",
    "local_file_path1 = \"modelo.pickle\""
   ]
  },
  {
   "cell_type": "code",
   "execution_count": null,
   "id": "8f975816-d226-4a40-bbca-a4f47916e30e",
   "metadata": {
    "vscode": {
     "languageId": "python"
    }
   },
   "outputs": [],
   "source": [
    "# Crea un objeto de Bucket\n",
    "bucket = client.get_bucket(bucket_name)"
   ]
  },
  {
   "cell_type": "code",
   "execution_count": null,
   "id": "569c13a4-d16d-4c09-814e-daeb26b6459a",
   "metadata": {
    "vscode": {
     "languageId": "python"
    }
   },
   "outputs": [],
   "source": [
    "# Crea un objeto Blob y lo carga en el bucket\n",
    "blob = bucket.blob(blob_name1)\n",
    "blob.upload_from_filename(local_file_path1)"
   ]
  }
 ],
 "metadata": {
  "kernelspec": {
   "display_name": "",
   "name": ""
  },
  "language_info": {
   "name": ""
  }
 },
 "nbformat": 4,
 "nbformat_minor": 5
}

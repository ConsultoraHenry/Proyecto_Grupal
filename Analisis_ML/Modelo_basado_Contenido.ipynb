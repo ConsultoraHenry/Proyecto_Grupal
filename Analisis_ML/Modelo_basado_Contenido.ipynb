{
 "cells": [
  {
   "cell_type": "code",
   "execution_count": 1,
   "id": "ff8adc78-35c7-496f-bfe6-d9df3d7e2a53",
   "metadata": {},
   "outputs": [
    {
     "name": "stdout",
     "output_type": "stream",
     "text": [
      "Collecting sklearn\n",
      "  Using cached sklearn-0.0.post1-py3-none-any.whl\n",
      "Installing collected packages: sklearn\n",
      "Successfully installed sklearn-0.0.post1\n"
     ]
    }
   ],
   "source": [
    "!pip install sklearn"
   ]
  },
  {
   "cell_type": "code",
   "execution_count": 2,
   "id": "c8ed5e63-6133-4d82-b575-e0a2dba1c7e3",
   "metadata": {},
   "outputs": [],
   "source": [
    "import pandas as pd\n",
    "import numpy as np\n",
    "from sklearn.compose import ColumnTransformer\n",
    "from sklearn.preprocessing import OneHotEncoder, StandardScaler\n",
    "from sklearn.pipeline import Pipeline\n",
    "from sklearn.neighbors import NearestNeighbors"
   ]
  },
  {
   "cell_type": "code",
   "execution_count": 3,
   "id": "51681bf7-215a-460d-b39f-f5766e036a3e",
   "metadata": {},
   "outputs": [],
   "source": [
    "qryMeta = \"\"\"\n",
    "Select *\n",
    "from delorean_dataset.metadata_sitios\n",
    "\"\"\"\n",
    "dfMeta = pd.read_gbq(qryMeta, dialect='standard')"
   ]
  },
  {
   "cell_type": "code",
   "execution_count": 5,
   "id": "5e0468d7-66c9-413c-a6b2-3742e6fec1b6",
   "metadata": {},
   "outputs": [],
   "source": [
    "# Filtra columnas\n",
    "keep_cols = ['gmap_id','restaurant_0_hotel_1','avg_rating','num_of_reviews','State','city','category','avg_compound','avg_size']"
   ]
  },
  {
   "cell_type": "code",
   "execution_count": 6,
   "id": "956d5ddb-f049-456f-a0cc-62f4579fd110",
   "metadata": {},
   "outputs": [],
   "source": [
    "dfMeta_filtrado = dfMeta[keep_cols]"
   ]
  },
  {
   "cell_type": "code",
   "execution_count": 7,
   "id": "268695c3-bcd4-4072-9366-398ec8ac03a5",
   "metadata": {},
   "outputs": [],
   "source": [
    "# Create pipeline para variables numericas\n",
    "numeric_pipe = Pipeline([\n",
    "    ('scaler', StandardScaler())\n",
    "    ])"
   ]
  },
  {
   "cell_type": "code",
   "execution_count": 8,
   "id": "60372426-3e0e-404c-be43-c9c4e75cf04b",
   "metadata": {},
   "outputs": [],
   "source": [
    "# Crea pipeline para procesar  variables categoricas\n",
    "categorical_pipe = Pipeline([\n",
    "    ('encoder', OneHotEncoder(drop = 'first'))\n",
    "    ])"
   ]
  },
  {
   "cell_type": "code",
   "execution_count": 9,
   "id": "3e1fccda-6133-47c1-97ea-a957b7397547",
   "metadata": {},
   "outputs": [],
   "source": [
    "# Transforma las columnas\n",
    "col_transf = ColumnTransformer([\n",
    "    ('numeric', numeric_pipe, dfMeta_filtrado._get_numeric_data().columns.tolist()),\n",
    "    ('categoric', categorical_pipe, dfMeta_filtrado.select_dtypes('object').columns.tolist()) \n",
    "    ])"
   ]
  },
  {
   "cell_type": "code",
   "execution_count": 15,
   "id": "1ea38889-9f74-40a7-9880-b5230e39066e",
   "metadata": {},
   "outputs": [],
   "source": [
    "dfMeta_filtrado.fillna(0, inplace=True)"
   ]
  },
  {
   "cell_type": "code",
   "execution_count": 16,
   "id": "c909e5cd-f976-43ce-96d0-be24b65edd64",
   "metadata": {},
   "outputs": [
    {
     "data": {
      "text/plain": [
       "<167150x202597 sparse matrix of type '<class 'numpy.float64'>'\n",
       "\twith 1140900 stored elements in Compressed Sparse Row format>"
      ]
     },
     "execution_count": 16,
     "metadata": {},
     "output_type": "execute_result"
    }
   ],
   "source": [
    "col_transf_fit = col_transf.fit(dfMeta_filtrado)\n",
    "dfMeta_filtrado_transf = col_transf_fit.transform(dfMeta_filtrado)\n",
    "dfMeta_filtrado_transf"
   ]
  },
  {
   "cell_type": "code",
   "execution_count": null,
   "id": "52ede929-3fd1-4ea6-89d4-820614cbdda5",
   "metadata": {},
   "outputs": [],
   "source": [
    "# Clasificación o regresión basada en vecinos cercanos"
   ]
  },
  {
   "cell_type": "code",
   "execution_count": 21,
   "id": "68c5f2e1-f4f3-4524-8101-64470a071257",
   "metadata": {},
   "outputs": [],
   "source": [
    "n_neighbors=5"
   ]
  },
  {
   "cell_type": "code",
   "execution_count": 24,
   "id": "b2ca120d-9110-4aa7-900e-c571da629514",
   "metadata": {},
   "outputs": [],
   "source": [
    "# Algoritmo NearestNeighbors de Scikit-learn\n",
    "#Este parámetro especifica el número de vecinos más cercanos que se utilizarán para encontrar los puntos más cercanos a un punto de consulta\n",
    "nneighbors = NearestNeighbors(n_neighbors = n_neighbors, metric = 'cosine').fit(dfMeta_filtrado_transf)"
   ]
  },
  {
   "cell_type": "code",
   "execution_count": 25,
   "id": "cb839d00-e90a-4c36-b5ef-f31f542bf80e",
   "metadata": {},
   "outputs": [],
   "source": [
    "dif, ind = nneighbors.kneighbors(dfMeta_filtrado_transf[1])"
   ]
  },
  {
   "cell_type": "code",
   "execution_count": 26,
   "id": "0be5b4d9-bb78-4fe9-a4f1-9c52f5c48a0c",
   "metadata": {},
   "outputs": [
    {
     "name": "stdout",
     "output_type": "stream",
     "text": [
      "Lugares que ha gustado\n",
      "================================================================================\n",
      "Lugares recomendados\n",
      "================================================================================\n"
     ]
    },
    {
     "data": {
      "text/html": [
       "<div>\n",
       "<style scoped>\n",
       "    .dataframe tbody tr th:only-of-type {\n",
       "        vertical-align: middle;\n",
       "    }\n",
       "\n",
       "    .dataframe tbody tr th {\n",
       "        vertical-align: top;\n",
       "    }\n",
       "\n",
       "    .dataframe thead th {\n",
       "        text-align: right;\n",
       "    }\n",
       "</style>\n",
       "<table border=\"1\" class=\"dataframe\">\n",
       "  <thead>\n",
       "    <tr style=\"text-align: right;\">\n",
       "      <th></th>\n",
       "      <th>name</th>\n",
       "      <th>address</th>\n",
       "      <th>gmap_id</th>\n",
       "      <th>description</th>\n",
       "      <th>latitude</th>\n",
       "      <th>longitude</th>\n",
       "      <th>category</th>\n",
       "      <th>avg_rating</th>\n",
       "      <th>num_of_reviews</th>\n",
       "      <th>price</th>\n",
       "      <th>...</th>\n",
       "      <th>MISC</th>\n",
       "      <th>relative_results</th>\n",
       "      <th>url</th>\n",
       "      <th>State</th>\n",
       "      <th>city</th>\n",
       "      <th>restaurant_0_hotel_1</th>\n",
       "      <th>characteristics</th>\n",
       "      <th>categoria</th>\n",
       "      <th>avg_compound</th>\n",
       "      <th>avg_size</th>\n",
       "    </tr>\n",
       "  </thead>\n",
       "  <tbody>\n",
       "    <tr>\n",
       "      <th>1</th>\n",
       "      <td>village parkway 03663</td>\n",
       "      <td>village parkway 03663, 03663 buchanan st space...</td>\n",
       "      <td>0x80dcb77a2a495555:0x554654212d520928</td>\n",
       "      <td>no especifica</td>\n",
       "      <td>33.888975</td>\n",
       "      <td>-117.496585</td>\n",
       "      <td>'bar'</td>\n",
       "      <td>4.5</td>\n",
       "      <td>2</td>\n",
       "      <td>no especifica</td>\n",
       "      <td>...</td>\n",
       "      <td>{'service options': ['dine-in'], 'accessibilit...</td>\n",
       "      <td>'0x80dcb771cac37b5b:0xba8d4ef9cd2f75fd', '0x80...</td>\n",
       "      <td>https://www.google.com/maps/place//data=!4m2!3...</td>\n",
       "      <td>CA</td>\n",
       "      <td>riverside</td>\n",
       "      <td>0</td>\n",
       "      <td>''</td>\n",
       "      <td>None</td>\n",
       "      <td>NaN</td>\n",
       "      <td>NaN</td>\n",
       "    </tr>\n",
       "    <tr>\n",
       "      <th>642</th>\n",
       "      <td>vino veritas llc</td>\n",
       "      <td>vino veritas llc, 285 alessandro blvd ste 7f, ...</td>\n",
       "      <td>0x80dca57b6f411887:0xa98b7601746a7de7</td>\n",
       "      <td>no especifica</td>\n",
       "      <td>33.915375</td>\n",
       "      <td>-117.328823</td>\n",
       "      <td>'bar'</td>\n",
       "      <td>4.3</td>\n",
       "      <td>3</td>\n",
       "      <td>no especifica</td>\n",
       "      <td>...</td>\n",
       "      <td>{'atmosphere': ['casual', 'cozy', 'upscale'], ...</td>\n",
       "      <td>'0x80dcb1f00be31b9b:0x12a2fa6edbf5d9a9', '0x80...</td>\n",
       "      <td>https://www.google.com/maps/place//data=!4m2!3...</td>\n",
       "      <td>CA</td>\n",
       "      <td>riverside</td>\n",
       "      <td>0</td>\n",
       "      <td>''</td>\n",
       "      <td>None</td>\n",
       "      <td>NaN</td>\n",
       "      <td>NaN</td>\n",
       "    </tr>\n",
       "    <tr>\n",
       "      <th>657</th>\n",
       "      <td>racers pub</td>\n",
       "      <td>racers pub, 3847 pierce st, riverside, ca 92503</td>\n",
       "      <td>0x80dcb760409df5a7:0xbba7f77fa9c2fb4e</td>\n",
       "      <td>no especifica</td>\n",
       "      <td>33.896786</td>\n",
       "      <td>-117.490542</td>\n",
       "      <td>'bar'</td>\n",
       "      <td>4.2</td>\n",
       "      <td>58</td>\n",
       "      <td>no especifica</td>\n",
       "      <td>...</td>\n",
       "      <td>{'service options': ['delivery'], 'health &amp; sa...</td>\n",
       "      <td>'0x80dcb771cac37b5b:0xba8d4ef9cd2f75fd', '0x80...</td>\n",
       "      <td>https://www.google.com/maps/place//data=!4m2!3...</td>\n",
       "      <td>CA</td>\n",
       "      <td>riverside</td>\n",
       "      <td>0</td>\n",
       "      <td>''</td>\n",
       "      <td>None</td>\n",
       "      <td>NaN</td>\n",
       "      <td>NaN</td>\n",
       "    </tr>\n",
       "    <tr>\n",
       "      <th>72749</th>\n",
       "      <td>catrina tequila bar</td>\n",
       "      <td>catrina tequila bar, 34 east ave, riverside, i...</td>\n",
       "      <td>0x880e357eb118c15d:0xa6747c82f74d1314</td>\n",
       "      <td>no especifica</td>\n",
       "      <td>41.827925</td>\n",
       "      <td>-87.820552</td>\n",
       "      <td>'bar'</td>\n",
       "      <td>4.9</td>\n",
       "      <td>19</td>\n",
       "      <td>no especifica</td>\n",
       "      <td>...</td>\n",
       "      <td>{'service options': ['curbside pickup', 'takeo...</td>\n",
       "      <td>nan</td>\n",
       "      <td>https://www.google.com/maps/place//data=!4m2!3...</td>\n",
       "      <td>IL</td>\n",
       "      <td>riverside</td>\n",
       "      <td>0</td>\n",
       "      <td>''</td>\n",
       "      <td>None</td>\n",
       "      <td>NaN</td>\n",
       "      <td>NaN</td>\n",
       "    </tr>\n",
       "  </tbody>\n",
       "</table>\n",
       "<p>4 rows × 21 columns</p>\n",
       "</div>"
      ],
      "text/plain": [
       "                        name  \\\n",
       "1      village parkway 03663   \n",
       "642         vino veritas llc   \n",
       "657               racers pub   \n",
       "72749    catrina tequila bar   \n",
       "\n",
       "                                                 address  \\\n",
       "1      village parkway 03663, 03663 buchanan st space...   \n",
       "642    vino veritas llc, 285 alessandro blvd ste 7f, ...   \n",
       "657      racers pub, 3847 pierce st, riverside, ca 92503   \n",
       "72749  catrina tequila bar, 34 east ave, riverside, i...   \n",
       "\n",
       "                                     gmap_id    description   latitude  \\\n",
       "1      0x80dcb77a2a495555:0x554654212d520928  no especifica  33.888975   \n",
       "642    0x80dca57b6f411887:0xa98b7601746a7de7  no especifica  33.915375   \n",
       "657    0x80dcb760409df5a7:0xbba7f77fa9c2fb4e  no especifica  33.896786   \n",
       "72749  0x880e357eb118c15d:0xa6747c82f74d1314  no especifica  41.827925   \n",
       "\n",
       "        longitude category  avg_rating  num_of_reviews          price  ...  \\\n",
       "1     -117.496585    'bar'         4.5               2  no especifica  ...   \n",
       "642   -117.328823    'bar'         4.3               3  no especifica  ...   \n",
       "657   -117.490542    'bar'         4.2              58  no especifica  ...   \n",
       "72749  -87.820552    'bar'         4.9              19  no especifica  ...   \n",
       "\n",
       "                                                    MISC  \\\n",
       "1      {'service options': ['dine-in'], 'accessibilit...   \n",
       "642    {'atmosphere': ['casual', 'cozy', 'upscale'], ...   \n",
       "657    {'service options': ['delivery'], 'health & sa...   \n",
       "72749  {'service options': ['curbside pickup', 'takeo...   \n",
       "\n",
       "                                        relative_results  \\\n",
       "1      '0x80dcb771cac37b5b:0xba8d4ef9cd2f75fd', '0x80...   \n",
       "642    '0x80dcb1f00be31b9b:0x12a2fa6edbf5d9a9', '0x80...   \n",
       "657    '0x80dcb771cac37b5b:0xba8d4ef9cd2f75fd', '0x80...   \n",
       "72749                                                nan   \n",
       "\n",
       "                                                     url State       city  \\\n",
       "1      https://www.google.com/maps/place//data=!4m2!3...    CA  riverside   \n",
       "642    https://www.google.com/maps/place//data=!4m2!3...    CA  riverside   \n",
       "657    https://www.google.com/maps/place//data=!4m2!3...    CA  riverside   \n",
       "72749  https://www.google.com/maps/place//data=!4m2!3...    IL  riverside   \n",
       "\n",
       "      restaurant_0_hotel_1 characteristics categoria avg_compound  avg_size  \n",
       "1                        0              ''      None          NaN       NaN  \n",
       "642                      0              ''      None          NaN       NaN  \n",
       "657                      0              ''      None          NaN       NaN  \n",
       "72749                    0              ''      None          NaN       NaN  \n",
       "\n",
       "[4 rows x 21 columns]"
      ]
     },
     "execution_count": 26,
     "metadata": {},
     "output_type": "execute_result"
    }
   ],
   "source": [
    "print(\"Lugares que ha gustado\")\n",
    "print(\"=\"*80)\n",
    "dfMeta.loc[ind[0][0], :]\n",
    "print(\"Lugares recomendados\")\n",
    "print(\"=\"*80)\n",
    "dfMeta.loc[ind[0][1:], :]"
   ]
  },
  {
   "cell_type": "code",
   "execution_count": null,
   "id": "21a1bbc2-bcb1-4820-aa62-3ee73df1c62b",
   "metadata": {},
   "outputs": [],
   "source": []
  }
 ],
 "metadata": {
  "kernelspec": {
   "display_name": "Python (Local)",
   "language": "python",
   "name": "local-base"
  },
  "language_info": {
   "codemirror_mode": {
    "name": "ipython",
    "version": 3
   },
   "file_extension": ".py",
   "mimetype": "text/x-python",
   "name": "python",
   "nbconvert_exporter": "python",
   "pygments_lexer": "ipython3",
   "version": "3.7.12"
  }
 },
 "nbformat": 4,
 "nbformat_minor": 5
}
